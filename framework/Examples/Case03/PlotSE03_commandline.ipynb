{
  "cells": [
    {
      "cell_type": "code",
      "execution_count": null,
      "metadata": {
        "id": "MuYo2g044yDu"
      },
      "outputs": [],
      "source": [
        "import numpy as np\n",
        "import matplotlib as mpl\n",
        "import matplotlib.pyplot as plt\n",
        "import scipy.stats as st\n",
        "\n",
        "t_true = np.arange(0,273,0.1)\n",
        "t_data = np.loadtxt('timedata.dat')\n",
        "x_data = np.loadtxt('data.dat')\n",
        "\n",
        "re_data = np.loadtxt('re_estimates_on.dat')\n",
        "re_time = np.arange(0,365)\n",
        "\n",
        "import parse"
      ]
    },
    {
      "cell_type": "code",
      "execution_count": null,
      "metadata": {
        "id": "gKMMq3Q2coCX"
      },
      "outputs": [],
      "source": [
        "f, ax = plt.subplots(1, figsize=(15,3))\n",
        "# plt.plot([10,10],[-100,100],'k:',linewidth=1.5)\n",
        "plt.plot(t_data,x_data,'o',alpha=0.5,c='tab:blue')\n",
        "# plt.plot(t_data_old,x_data_old,'o',alpha=0.5,c='tab:red')\n",
        "plt.grid(True)\n",
        "plt.xlim([0,365])\n",
        "plt.ylim([0,0.025])\n",
        "plt.xlabel('Time (days)', fontsize=10)\n",
        "plt.ylabel('I', fontsize=10)\n",
        "plt.savefig('figures/data.pdf')\n",
        "plt.close()"
      ]
    },
    {
      "cell_type": "code",
      "execution_count": null,
      "metadata": {
        "id": "Rh5xFYE2coCY"
      },
      "outputs": [],
      "source": [
        "## Model 4\n",
        "\n",
        "[t,x_mean,x_var] =  parse.parseXML('Model4SS-state-estimation0.xml')\n",
        "\n",
        "f, ax = plt.subplots(1, figsize=(15,3))\n",
        "plt.plot(t,x_mean[0,:],linewidth=2,c='tab:blue')\n",
        "plt.fill_between(t,x_mean[0,:]+1.96*np.sqrt(x_var[0,:]),x_mean[0,:]-1.96*np.sqrt(x_var[0,:]),facecolor='tab:blue',alpha=0.5)\n",
        "# plt.plot([10,10],[-100,100],'k:',linewidth=1.5)\n",
        "# plt.plot(t_data,x_data,'o',alpha=0.5,c='tab:red')\n",
        "plt.grid(True)\n",
        "plt.xlim([0,364])\n",
        "# plt.ylim([-15,15])\n",
        "plt.xlabel('Time (days)', fontsize=10)\n",
        "plt.ylabel('S', fontsize=10)\n",
        "plt.savefig('figures/m4_s.pdf')\n",
        "plt.close()\n",
        "\n",
        "f, ax = plt.subplots(1, figsize=(15,3))\n",
        "plt.plot(t,x_mean[1,:],linewidth=2,c='tab:blue')\n",
        "plt.fill_between(t,x_mean[1,:]+1.96*np.sqrt(x_var[5,:]),x_mean[1,:]-1.96*np.sqrt(x_var[5,:]),facecolor='tab:blue',alpha=0.5)\n",
        "# plt.plot([10,10],[-100,100],'k:',linewidth=1.5)\n",
        "# plt.plot(t_data,4*x_data,'o',alpha=0.2,c='tab:red')\n",
        "plt.grid(True)\n",
        "plt.xlim([0,364])\n",
        "plt.ylim([0,0.025])\n",
        "plt.xlabel('Days since April 1, 2020', fontsize=12)\n",
        "plt.ylabel(r'Infectious compartment, $I(t)$', fontsize=12)\n",
        "plt.savefig('figures/m4_i.pdf')\n",
        "plt.close()\n",
        "\n",
        "f, ax = plt.subplots(1, figsize=(15,3))\n",
        "plt.plot(t,x_mean[2,:],linewidth=2,c='tab:blue')\n",
        "plt.fill_between(t,x_mean[2,:]+1.96*np.sqrt(x_var[10,:]),x_mean[2,:]-1.96*np.sqrt(x_var[10,:]),facecolor='tab:blue',alpha=0.5)\n",
        "# plt.plot([10,10],[-100,100],'k:',linewidth=1.5)\n",
        "plt.grid(True)\n",
        "plt.xlim([0,364])\n",
        "# plt.ylim([-15,15])\n",
        "plt.xlabel('Time (days)', fontsize=10)\n",
        "plt.ylabel('R', fontsize=10)\n",
        "plt.savefig('figures/m4_r.pdf')\n",
        "plt.close()\n",
        "\n",
        "f, ax = plt.subplots(1, figsize=(15,3))\n",
        "plt.plot(t,x_mean[3,:],linewidth=2,c='tab:blue')\n",
        "plt.fill_between(t,x_mean[3,:]+1.96*np.sqrt(x_var[15,:]),x_mean[3,:]-1.96*np.sqrt(x_var[15,:]),facecolor='tab:blue',alpha=0.5)\n",
        "# plt.plot([10,10],[-100,100],'sk:',linewidth=1.5)\n",
        "plt.grid(True)\n",
        "plt.xlim([0,364])\n",
        "plt.ylim([0,0.25])\n",
        "plt.xlabel('Days since April 1, 2020', fontsize=12)\n",
        "plt.ylabel(r'Infection rate parameter, $\\beta(t)$', fontsize=12)\n",
        "plt.savefig('figures/m4_b.pdf')\n",
        "plt.close()\n"
      ]
    },
    {
      "cell_type": "code",
      "execution_count": null,
      "metadata": {
        "id": "JDGqI0P1coCZ"
      },
      "outputs": [],
      "source": [
        "re_mu = np.zeros(len(x_mean[0,:]))\n",
        "re_sigma = np.zeros(len(x_mean[0,:]))\n",
        "\n",
        "for ii in range(len(x_mean[0,:])):\n",
        "  Mu = [x_mean[0,ii],x_mean[3,ii]]\n",
        "  Sigma = [[x_var[0,ii],x_var[3,ii]],[x_var[12,ii],x_var[15,ii]]]\n",
        "\n",
        "  s_beta = np.random.multivariate_normal(Mu,Sigma,1000)\n",
        "\n",
        "  re_mu[ii] = np.mean(14*s_beta[:,0]*s_beta[:,1])\n",
        "  re_sigma[ii] = np.var(14*s_beta[:,0]*s_beta[:,1])\n",
        "\n",
        "f, ax = plt.subplots(1, figsize=(15,3))\n",
        "plt.plot(t,re_mu,linewidth=2,c='tab:blue')\n",
        "plt.fill_between(t,re_mu+1.96*np.sqrt(re_sigma),re_mu-1.96*np.sqrt(re_sigma),facecolor='tab:blue',alpha=0.5)\n",
        "# plt.fill_between(t,re_mu+1.96*np.sqrt(re_sigma),re_mu-1.96*np.sqrt(re_sigma),facecolor='tab:blue',alpha=0.5)\n",
        "# plt.plot([10,10],[-100,100],'k:',linewidth=1.5)\n",
        "plt.plot(re_time,re_data[:,0],linewidth=2,c='tab:red',linestyle='--')\n",
        "plt.fill_between(re_time,re_data[:,2],re_data[:,1],facecolor='tab:red',alpha=0.5)\n",
        "for ii in range(len(re_mu)-1):\n",
        "  if (re_mu[ii+1]-1)/(re_mu[ii]-1) < 0:\n",
        "    plt.plot([t[ii],t[ii]],[0,3])\n",
        "plt.grid(True)\n",
        "plt.xlim([0,364])\n",
        "plt.ylim([0,3])\n",
        "plt.xlabel('Days since April 1, 2020', fontsize=12)\n",
        "plt.ylabel(r'Effective reproduction number, $R_e(t)$', fontsize=12)\n",
        "plt.savefig('figures/m4_re.pdf')\n",
        "plt.close()"
      ]
    }
  ],
  "metadata": {
    "colab": {
      "provenance": []
    },
    "kernelspec": {
      "display_name": "Python 3",
      "name": "python3"
    },
    "language_info": {
      "codemirror_mode": {
        "name": "ipython",
        "version": 3
      },
      "file_extension": ".py",
      "mimetype": "text/x-python",
      "name": "python",
      "nbconvert_exporter": "python",
      "pygments_lexer": "ipython3",
      "version": "3.10.12"
    }
  },
  "nbformat": 4,
  "nbformat_minor": 0
}